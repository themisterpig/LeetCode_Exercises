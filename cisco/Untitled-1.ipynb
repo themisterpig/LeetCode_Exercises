{
 "cells": [
  {
   "cell_type": "code",
   "execution_count": 10,
   "metadata": {},
   "outputs": [
    {
     "name": "stdout",
     "output_type": "stream",
     "text": [
      "c  ->  3\n",
      "b  ->  2\n",
      "a  ->  1\n"
     ]
    }
   ],
   "source": [
    "from os import strerror\n",
    "\n",
    "try:\n",
    "    cnt = 0\n",
    "    dictionalary = {}\n",
    "    textfile = input()\n",
    "    s = open(textfile, \"rt\")\n",
    "    content = s.read()\n",
    "    for ch in content:\n",
    "        ch = ch.lower()\n",
    "        #put in the dictionary and add 1 to the value\n",
    "        if ch in dictionalary:\n",
    "            dictionalary[ch] += 1\n",
    "        else:\n",
    "            dictionalary[ch] = 1\n",
    "        #order dictionary by value bigger to lower using lambda\n",
    "        dictionalary = dict(sorted(dictionalary.items(), key=lambda item: item[1], reverse=True))\n",
    "        \n",
    "    for key, value in dictionalary.items():\n",
    "        print(key,\" -> \", value)\n",
    "\n",
    "    s.close()\n",
    "except IOError as e:\n",
    "    print(\"I/O error occurred: \", strerr(e.errno))\n"
   ]
  },
  {
   "cell_type": "code",
   "execution_count": 30,
   "metadata": {},
   "outputs": [
    {
     "name": "stdout",
     "output_type": "stream",
     "text": [
      "Andrew Cox  ->  1.5\n",
      "Anna Boleyn  ->  15.5\n",
      "John Smith  ->  7.0\n"
     ]
    }
   ],
   "source": [
    "class StudentsDataException(Exception):\n",
    "    pass\n",
    "\n",
    "\n",
    "class BadLine(StudentsDataException):\n",
    "    # Write your code here.\n",
    "    def __init__(self, line):\n",
    "        self.line = line\n",
    "    \n",
    "\n",
    "\n",
    "\n",
    "try:\n",
    "    cnt = 0\n",
    "    dictionalary = {}\n",
    "    s = open('text.txt', \"rt\")\n",
    "    content = s.readlines()\n",
    "    for ch in content:\n",
    "        #split the words by lines\n",
    "        ch = ch.split()\n",
    "        name = ch[0] + \" \" + ch[1]\n",
    "        #add grade if the name is the same\n",
    "        number = float(ch[2])\n",
    "        if name in dictionalary:\n",
    "            dictionalary[name] += number\n",
    "        else:\n",
    "            dictionalary[name] = number\n",
    "    #order by name\n",
    "    dictionalary = dict(sorted(dictionalary.items(), key=lambda item: item[0]))   \n",
    "    for key, value in dictionalary.items():\n",
    "        print(key,\" -> \", value)\n",
    "\n",
    "    s.close()\n",
    "except IOError as e:\n",
    "    print(\"I/O error occurred: \", strerr(e.errno))\n",
    "\n"
   ]
  },
  {
   "cell_type": "code",
   "execution_count": null,
   "metadata": {},
   "outputs": [],
   "source": []
  },
  {
   "cell_type": "code",
   "execution_count": 38,
   "metadata": {},
   "outputs": [
    {
     "name": "stdout",
     "output_type": "stream",
     "text": [
      "nt\n"
     ]
    },
    {
     "ename": "AttributeError",
     "evalue": "module 'os' has no attribute 'uname'",
     "output_type": "error",
     "traceback": [
      "\u001b[1;31m---------------------------------------------------------------------------\u001b[0m",
      "\u001b[1;31mAttributeError\u001b[0m                            Traceback (most recent call last)",
      "\u001b[1;32mc:\\Users\\it.sharepoint\\OneDrive - Mystic Invest Holding, S.A\\Documentos\\GitHub\\LeetCode_Exercises\\cisco\\Untitled-1.ipynb Cell 4\u001b[0m in \u001b[0;36m<cell line: 3>\u001b[1;34m()\u001b[0m\n\u001b[0;32m      <a href='vscode-notebook-cell:/c%3A/Users/it.sharepoint/OneDrive%20-%20Mystic%20Invest%20Holding%2C%20S.A/Documentos/GitHub/LeetCode_Exercises/cisco/Untitled-1.ipynb#W5sZmlsZQ%3D%3D?line=0'>1</a>\u001b[0m \u001b[39mimport\u001b[39;00m \u001b[39mos\u001b[39;00m\n\u001b[0;32m      <a href='vscode-notebook-cell:/c%3A/Users/it.sharepoint/OneDrive%20-%20Mystic%20Invest%20Holding%2C%20S.A/Documentos/GitHub/LeetCode_Exercises/cisco/Untitled-1.ipynb#W5sZmlsZQ%3D%3D?line=1'>2</a>\u001b[0m \u001b[39mprint\u001b[39m(os\u001b[39m.\u001b[39mname)\n\u001b[1;32m----> <a href='vscode-notebook-cell:/c%3A/Users/it.sharepoint/OneDrive%20-%20Mystic%20Invest%20Holding%2C%20S.A/Documentos/GitHub/LeetCode_Exercises/cisco/Untitled-1.ipynb#W5sZmlsZQ%3D%3D?line=2'>3</a>\u001b[0m \u001b[39mprint\u001b[39m(os\u001b[39m.\u001b[39;49muname())\n",
      "\u001b[1;31mAttributeError\u001b[0m: module 'os' has no attribute 'uname'"
     ]
    }
   ],
   "source": [
    "import os\n",
    "print(os.name)\n",
    "print(os.uname())"
   ]
  },
  {
   "cell_type": "code",
   "execution_count": 40,
   "metadata": {},
   "outputs": [
    {
     "ename": "FileExistsError",
     "evalue": "[WinError 183] Cannot create a file when that file already exists: 'my_first_directory'",
     "output_type": "error",
     "traceback": [
      "\u001b[1;31m---------------------------------------------------------------------------\u001b[0m",
      "\u001b[1;31mFileExistsError\u001b[0m                           Traceback (most recent call last)",
      "\u001b[1;32mc:\\Users\\it.sharepoint\\OneDrive - Mystic Invest Holding, S.A\\Documentos\\GitHub\\LeetCode_Exercises\\cisco\\Untitled-1.ipynb Cell 5\u001b[0m in \u001b[0;36m<cell line: 3>\u001b[1;34m()\u001b[0m\n\u001b[0;32m      <a href='vscode-notebook-cell:/c%3A/Users/it.sharepoint/OneDrive%20-%20Mystic%20Invest%20Holding%2C%20S.A/Documentos/GitHub/LeetCode_Exercises/cisco/Untitled-1.ipynb#W6sZmlsZQ%3D%3D?line=0'>1</a>\u001b[0m \u001b[39mimport\u001b[39;00m \u001b[39mos\u001b[39;00m\n\u001b[1;32m----> <a href='vscode-notebook-cell:/c%3A/Users/it.sharepoint/OneDrive%20-%20Mystic%20Invest%20Holding%2C%20S.A/Documentos/GitHub/LeetCode_Exercises/cisco/Untitled-1.ipynb#W6sZmlsZQ%3D%3D?line=2'>3</a>\u001b[0m os\u001b[39m.\u001b[39;49mmkdir(\u001b[39m\"\u001b[39;49m\u001b[39mmy_first_directory\u001b[39;49m\u001b[39m\"\u001b[39;49m)\n\u001b[0;32m      <a href='vscode-notebook-cell:/c%3A/Users/it.sharepoint/OneDrive%20-%20Mystic%20Invest%20Holding%2C%20S.A/Documentos/GitHub/LeetCode_Exercises/cisco/Untitled-1.ipynb#W6sZmlsZQ%3D%3D?line=3'>4</a>\u001b[0m \u001b[39mprint\u001b[39m(os\u001b[39m.\u001b[39mlistdir())\n",
      "\u001b[1;31mFileExistsError\u001b[0m: [WinError 183] Cannot create a file when that file already exists: 'my_first_directory'"
     ]
    }
   ],
   "source": [
    "import os\n",
    "\n",
    "os.mkdir(\"my_first_directory\")\n",
    "print(os.listdir())\n"
   ]
  },
  {
   "cell_type": "code",
   "execution_count": 41,
   "metadata": {},
   "outputs": [
    {
     "name": "stdout",
     "output_type": "stream",
     "text": [
      "c:\\Users\\it.sharepoint\\OneDrive - Mystic Invest Holding, S.A\\Documentos\\GitHub\\LeetCode_Exercises\\cisco\\my_first_directory\n",
      "c:\\Users\\it.sharepoint\\OneDrive - Mystic Invest Holding, S.A\\Documentos\\GitHub\\LeetCode_Exercises\\cisco\\my_first_directory\\my_second_directory\n"
     ]
    }
   ],
   "source": [
    "import os\n",
    "\n",
    "os.makedirs(\"my_first_directory/my_second_directory\")\n",
    "os.chdir(\"my_first_directory\")\n",
    "print(os.getcwd())\n",
    "os.chdir(\"my_second_directory\")\n",
    "print(os.getcwd())\n"
   ]
  },
  {
   "cell_type": "code",
   "execution_count": 42,
   "metadata": {},
   "outputs": [
    {
     "name": "stdout",
     "output_type": "stream",
     "text": [
      "0\n"
     ]
    }
   ],
   "source": [
    "import os\n",
    "\n",
    "returned_value = os.system(\"mkdir my_first_directory\")\n",
    "print(returned_value)\n"
   ]
  },
  {
   "cell_type": "code",
   "execution_count": 44,
   "metadata": {},
   "outputs": [
    {
     "name": "stdout",
     "output_type": "stream",
     "text": [
      "time.struct_time(tm_year=2019, tm_mon=11, tm_mday=4, tm_hour=14, tm_min=53, tm_sec=0, tm_wday=0, tm_yday=308, tm_isdst=0)\n",
      "time.struct_time(tm_year=2019, tm_mon=11, tm_mday=4, tm_hour=14, tm_min=53, tm_sec=0, tm_wday=0, tm_yday=308, tm_isdst=0)\n"
     ]
    }
   ],
   "source": [
    "import time\n",
    "\n",
    "timestamp = 1572879180\n",
    "print(time.gmtime(timestamp))\n",
    "print(time.localtime(timestamp))\n"
   ]
  },
  {
   "cell_type": "code",
   "execution_count": 45,
   "metadata": {},
   "outputs": [
    {
     "ename": "AttributeError",
     "evalue": "'str' object has no attribute 'tm_year'",
     "output_type": "error",
     "traceback": [
      "\u001b[1;31m---------------------------------------------------------------------------\u001b[0m",
      "\u001b[1;31mAttributeError\u001b[0m                            Traceback (most recent call last)",
      "\u001b[1;32mc:\\Users\\it.sharepoint\\OneDrive - Mystic Invest Holding, S.A\\Documentos\\GitHub\\LeetCode_Exercises\\cisco\\Untitled-1.ipynb Cell 9\u001b[0m in \u001b[0;36m<cell line: 6>\u001b[1;34m()\u001b[0m\n\u001b[0;32m      <a href='vscode-notebook-cell:/c%3A/Users/it.sharepoint/OneDrive%20-%20Mystic%20Invest%20Holding%2C%20S.A/Documentos/GitHub/LeetCode_Exercises/cisco/Untitled-1.ipynb#X13sZmlsZQ%3D%3D?line=2'>3</a>\u001b[0m timestamp \u001b[39m=\u001b[39m \u001b[39m1572879180\u001b[39m\n\u001b[0;32m      <a href='vscode-notebook-cell:/c%3A/Users/it.sharepoint/OneDrive%20-%20Mystic%20Invest%20Holding%2C%20S.A/Documentos/GitHub/LeetCode_Exercises/cisco/Untitled-1.ipynb#X13sZmlsZQ%3D%3D?line=3'>4</a>\u001b[0m st \u001b[39m=\u001b[39m time\u001b[39m.\u001b[39mgmtime(timestamp)\n\u001b[1;32m----> <a href='vscode-notebook-cell:/c%3A/Users/it.sharepoint/OneDrive%20-%20Mystic%20Invest%20Holding%2C%20S.A/Documentos/GitHub/LeetCode_Exercises/cisco/Untitled-1.ipynb#X13sZmlsZQ%3D%3D?line=5'>6</a>\u001b[0m \u001b[39mprint\u001b[39m(time\u001b[39m.\u001b[39;49masctime(st)\u001b[39m.\u001b[39;49mtm_year)\n",
      "\u001b[1;31mAttributeError\u001b[0m: 'str' object has no attribute 'tm_year'"
     ]
    }
   ],
   "source": [
    "import time\n",
    "\n",
    "timestamp = 1572879180\n",
    "st = time.gmtime(timestamp)\n",
    "\n",
    "print(time.asctime(st))"
   ]
  },
  {
   "cell_type": "code",
   "execution_count": null,
   "metadata": {},
   "outputs": [],
   "source": []
  }
 ],
 "metadata": {
  "kernelspec": {
   "display_name": "Python 3.9.12 ('base')",
   "language": "python",
   "name": "python3"
  },
  "language_info": {
   "codemirror_mode": {
    "name": "ipython",
    "version": 3
   },
   "file_extension": ".py",
   "mimetype": "text/x-python",
   "name": "python",
   "nbconvert_exporter": "python",
   "pygments_lexer": "ipython3",
   "version": "3.9.12"
  },
  "orig_nbformat": 4,
  "vscode": {
   "interpreter": {
    "hash": "a6a43e7b8d8874e83909c1f349b07e91ca58f96ffe40252ecfbd91be048730d9"
   }
  }
 },
 "nbformat": 4,
 "nbformat_minor": 2
}
